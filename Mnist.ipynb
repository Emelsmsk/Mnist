{
  "nbformat": 4,
  "nbformat_minor": 0,
  "metadata": {
    "colab": {
      "provenance": [],
      "authorship_tag": "ABX9TyMb6Z/f0I4f2dtM/z8H3sSh",
      "include_colab_link": true
    },
    "kernelspec": {
      "name": "python3",
      "display_name": "Python 3"
    },
    "language_info": {
      "name": "python"
    }
  },
  "cells": [
    {
      "cell_type": "markdown",
      "metadata": {
        "id": "view-in-github",
        "colab_type": "text"
      },
      "source": [
        "<a href=\"https://colab.research.google.com/github/Emelsmsk/Mnist/blob/main/Mnist.ipynb\" target=\"_parent\"><img src=\"https://colab.research.google.com/assets/colab-badge.svg\" alt=\"Open In Colab\"/></a>"
      ]
    },
    {
      "cell_type": "code",
      "execution_count": 11,
      "metadata": {
        "colab": {
          "base_uri": "https://localhost:8080/",
          "height": 750
        },
        "id": "GzRtaa_Fxln8",
        "outputId": "d575dd6e-bfc9-47bb-a978-dba129441685"
      },
      "outputs": [
        {
          "output_type": "stream",
          "name": "stderr",
          "text": [
            "<ipython-input-11-9fda1738d601>:29: GradioUnusedKwargWarning: You have unused kwarg parameters in Label, please remove them: {'top_num_classes': 3}\n",
            "  outputs=gr.Label(top_num_classes=3),\n"
          ]
        },
        {
          "output_type": "stream",
          "name": "stdout",
          "text": [
            "['.config', 'sample_data']\n",
            "Error:Model file not found at: /content/number_recognition_model_colab.keras\n",
            "Setting queue=True in a Colab notebook requires sharing enabled. Setting `share=True` (you can turn this off by setting `share=False` in `launch()` explicitly).\n",
            "\n",
            "Colab notebook detected. To show errors in colab notebook, set debug=True in launch()\n",
            "IMPORTANT: You are using gradio version 3.50.2, however version 4.44.1 is available, please upgrade.\n",
            "--------\n",
            "Running on public URL: https://ac548d7365ad056f73.gradio.live\n",
            "\n",
            "This share link expires in 72 hours. For free permanent hosting and GPU upgrades, run `gradio deploy` from Terminal to deploy to Spaces (https://huggingface.co/spaces)\n"
          ]
        },
        {
          "output_type": "display_data",
          "data": {
            "text/plain": [
              "<IPython.core.display.HTML object>"
            ],
            "text/html": [
              "<div><iframe src=\"https://ac548d7365ad056f73.gradio.live\" width=\"100%\" height=\"500\" allow=\"autoplay; camera; microphone; clipboard-read; clipboard-write;\" frameborder=\"0\" allowfullscreen></iframe></div>"
            ]
          },
          "metadata": {}
        },
        {
          "output_type": "execute_result",
          "data": {
            "text/plain": []
          },
          "metadata": {},
          "execution_count": 11
        }
      ],
      "source": [
        "import os\n",
        "print(os.listdir())\n",
        "# os.system(\"pip unistall -y gradio\")\n",
        "# os.system(\"pip install gradio==3.50.2\")\n",
        "import tensorflow as tf\n",
        "model_path = os.path.abspath('number_recognition_model_colab.keras')\n",
        "if os.path.exists(model_path):\n",
        "    print(f\"Model file found at: {model_path}\")\n",
        "    model = tf.keras.models.load_model(model_path)\n",
        "else:\n",
        "  print(f\"Error:Model file not found at: {model_path}\")\n",
        "\n",
        "import numpy as np\n",
        "import gradio as gr\n",
        "\n",
        "# model = tf.keras.models.load_model('number_recognition_model_colab.keras')\n",
        "\n",
        "def recognize_digit(image):\n",
        "  if image is not None:\n",
        "    image = image.reshape((1, 28, 28, 1)).astype('float32')/255\n",
        "    prediction = model.predict(image)\n",
        "    return {str(i) : float(prediction[0][i]) for i in range(10)}\n",
        "  else:\n",
        "    return ''\n",
        "\n",
        "iface = gr.Interface(\n",
        "    fn = recognize_digit,\n",
        "    inputs=gr.Image(shape=(28,28),image_mode = 'L',invert_colors=True, source = 'canvas'),\n",
        "    outputs=gr.Label(top_num_classes=3),\n",
        "    description = 'Draw a Digit Below')\n",
        "iface.launch()"
      ]
    }
  ]
}